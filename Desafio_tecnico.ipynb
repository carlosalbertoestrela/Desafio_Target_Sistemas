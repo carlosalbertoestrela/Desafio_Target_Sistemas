{
 "cells": [
  {
   "attachments": {},
   "cell_type": "markdown",
   "metadata": {},
   "source": [
    "### Q2 - FibonacciFinder"
   ]
  },
  {
   "cell_type": "code",
   "execution_count": 42,
   "metadata": {},
   "outputs": [
    {
     "name": "stdout",
     "output_type": "stream",
     "text": [
      "O número 555 não faz parte da sequencia de Fibonacci, o número mais próximo é 610\n",
      "o número 987 está na sequencia de Fibonacci e é a 17ª ocorrencia na mesma\n"
     ]
    }
   ],
   "source": [
    "def fibonacciFinder(numero):\n",
    "    fib = [0,1]\n",
    "    index = 0\n",
    "    while max(fib) < numero:\n",
    "        fib.append(fib[index] + fib[index + 1])\n",
    "        index += 1\n",
    "\n",
    "    numInFib = fib.count(numero)\n",
    "    \n",
    "    if numInFib:\n",
    "        return print(f'o número {numero} está na sequencia de Fibonacci e é a {fib.index(numero)+1}ª ocorrencia na mesma')\n",
    "    return print(f'O número {numero} não faz parte da sequencia de Fibonacci, o número mais próximo é {fib[-1]}')\n",
    "\n",
    "# O numero para testes deve ser informado em uma das chamadas da função abaixo:\n",
    "fibonacciFinder(555)\n",
    "fibonacciFinder(987)\n",
    "\n",
    "\n"
   ]
  },
  {
   "attachments": {},
   "cell_type": "markdown",
   "metadata": {},
   "source": [
    "### Q3 - Calculador de Faturamento"
   ]
  },
  {
   "cell_type": "code",
   "execution_count": 24,
   "metadata": {},
   "outputs": [
    {
     "name": "stdout",
     "output_type": "stream",
     "text": [
      "\n",
      "        O dia 14 foi o de menor faturamento, com o faturamento de 373.7838.\n",
      "        O dia 16 foi o de maior faturamento, com o faturamento de 48924.2448.\n",
      "        Houve um total de 10 dias com faturamento superior a média de  20,865.3702.\n",
      "        \n"
     ]
    }
   ],
   "source": [
    "def faturamento():\n",
    "    import json\n",
    "\n",
    "    with open('./dados.json') as data:\n",
    "        list_data = json.load(data)\n",
    "\n",
    "    dias_uteis = 0\n",
    "    faturamento_total = 0\n",
    "    dias_sup_media = 0\n",
    "    menor_faturamento = list_data[0][\"valor\"]\n",
    "    dia_menor_faturamento = list_data[0][\"dia\"]\n",
    "    maior_faturamento = list_data[0][\"valor\"]\n",
    "    dia_maior_faturamento = list_data[0][\"dia\"]\n",
    "\n",
    "    for dia in list_data:\n",
    "        if dia[\"valor\"] != 0:\n",
    "            if dia[\"valor\"] < menor_faturamento:\n",
    "                menor_faturamento = dia[\"valor\"]\n",
    "                dia_menor_faturamento = dia[\"dia\"]\n",
    "            if dia[\"valor\"] > maior_faturamento:\n",
    "                maior_faturamento = dia[\"valor\"]\n",
    "                dia_maior_faturamento = dia[\"dia\"]\n",
    "            dias_uteis +=1\n",
    "\n",
    "    for dia in list_data:\n",
    "        faturamento_total += dia[\"valor\"]\n",
    "    \n",
    "    media_faturamento = faturamento_total / dias_uteis\n",
    "\n",
    "    for dia in list_data:\n",
    "        if dia[\"valor\"] > media_faturamento:\n",
    "            dias_sup_media += 1\n",
    "      \n",
    "    print(\n",
    "        f\"\"\"\n",
    "        O dia {dia_menor_faturamento} foi o de menor faturamento, com o faturamento de {menor_faturamento}.\n",
    "        O dia {dia_maior_faturamento} foi o de maior faturamento, com o faturamento de {maior_faturamento}.\n",
    "        Houve um total de {dias_sup_media} dias com faturamento superior a média de {media_faturamento: ,.4f}.\n",
    "        \"\"\"\n",
    "          )\n",
    "\n",
    "\n",
    "faturamento()\n",
    "    \n",
    "\n",
    "\n",
    "\n"
   ]
  },
  {
   "attachments": {},
   "cell_type": "markdown",
   "metadata": {},
   "source": [
    "### Q4 - Percentual de faturamento por estado"
   ]
  },
  {
   "cell_type": "code",
   "execution_count": 34,
   "metadata": {},
   "outputs": [
    {
     "name": "stdout",
     "output_type": "stream",
     "text": [
      "180759.98\n",
      "\n",
      "SP = 37.5%\n",
      "RJ = 20.3%\n",
      "MG = 16.2%\n",
      "ES = 15.0%\n",
      "OUTROS = 11.0%\n"
     ]
    }
   ],
   "source": [
    "faturamentos = [{\"estado\":\"SP\", \"valor\":67836.43},\n",
    "{\"estado\":\"RJ\", \"valor\": 36678.66},\n",
    "{\"estado\":\"MG\", \"valor\": 29229.88},\n",
    "{\"estado\":\"ES\", \"valor\": 27165.48},\n",
    "{\"estado\":\"OUTROS\", \"valor\": 19849.53}]\n",
    "\n",
    "total = 0\n",
    "\n",
    "for valor in faturamentos:\n",
    "    total += valor[\"valor\"]\n",
    "\n",
    "print(total)\n",
    "\n",
    "faturamentos_porcentagem = []\n",
    "\n",
    "for estado in faturamentos:\n",
    "    faturamentos_porcentagem.append({\"estado\":estado[\"estado\"], \"porcentagem\": round(estado[\"valor\"] / (total / 100), 1)})\n",
    "\n",
    "resumo = \"\"\n",
    "\n",
    "for i in faturamentos_porcentagem:\n",
    "    resumo += f'\\n{i[\"estado\"]} = {i[\"porcentagem\"]}%'\n",
    "\n",
    "print(resumo)\n"
   ]
  },
  {
   "attachments": {},
   "cell_type": "markdown",
   "metadata": {},
   "source": [
    "### Q5 - Inversor de strings"
   ]
  },
  {
   "cell_type": "code",
   "execution_count": 39,
   "metadata": {},
   "outputs": [
    {
     "name": "stdout",
     "output_type": "stream",
     "text": [
      "etset\n",
      "sametsiS tegraT\n"
     ]
    }
   ],
   "source": [
    "def stringInverter(string):\n",
    "    reverse_list = []\n",
    "    \n",
    "    for l in string:\n",
    "        reverse_list.insert(0,l)\n",
    "    \n",
    "    reverse_string = \"\"\n",
    "    \n",
    "    for i in reverse_list:\n",
    "        reverse_string += i\n",
    "    \n",
    "    print(reverse_string)\n",
    "\n",
    "# A string para testes deve ser informada em uma das chamadas da função abaixo:\n",
    "\n",
    "stringInverter(\"teste\")   \n",
    "stringInverter(\"Target Sistemas\")   "
   ]
  }
 ],
 "metadata": {
  "kernelspec": {
   "display_name": "Python 3",
   "language": "python",
   "name": "python3"
  },
  "language_info": {
   "codemirror_mode": {
    "name": "ipython",
    "version": 3
   },
   "file_extension": ".py",
   "mimetype": "text/x-python",
   "name": "python",
   "nbconvert_exporter": "python",
   "pygments_lexer": "ipython3",
   "version": "3.11.2"
  },
  "orig_nbformat": 4
 },
 "nbformat": 4,
 "nbformat_minor": 2
}
